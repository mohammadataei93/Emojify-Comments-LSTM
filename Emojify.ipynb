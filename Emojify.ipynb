{
  "nbformat": 4,
  "nbformat_minor": 0,
  "metadata": {
    "accelerator": "GPU",
    "colab": {
      "name": "Emoji_v3a.ipynb",
      "provenance": [],
      "collapsed_sections": [
        "zhyVzuThcFI4",
        "LUSzrFkYcFJF"
      ]
    },
    "coursera": {
      "schema_names": [
        "DLSC5W2-A2"
      ]
    },
    "kernelspec": {
      "display_name": "Python 3",
      "language": "python",
      "name": "python3"
    },
    "language_info": {
      "codemirror_mode": {
        "name": "ipython",
        "version": 3
      },
      "file_extension": ".py",
      "mimetype": "text/x-python",
      "name": "python",
      "nbconvert_exporter": "python",
      "pygments_lexer": "ipython3",
      "version": "3.7.6"
    }
  },
  "cells": [
    {
      "cell_type": "code",
      "metadata": {
        "id": "yEAK6boCt-08"
      },
      "source": [
        "!git clone  https://github.com/mohammadataei93/Emojify-Comments-LSTM.git\n",
        "!pip install emoji\n",
        "!pip install patool"
      ],
      "execution_count": null,
      "outputs": []
    },
    {
      "cell_type": "code",
      "metadata": {
        "id": "lMZ9xg8MFHZU"
      },
      "source": [
        "import os\n",
        "os.chdir('/content/Emojify-Comments-LSTM')\n",
        "os.getcwd()\n",
        "import numpy as np\n",
        "from emo_utils import *\n",
        "import emoji\n",
        "import matplotlib.pyplot as plt\n",
        "import patoolib\n",
        "\n",
        "%matplotlib inline"
      ],
      "execution_count": 9,
      "outputs": []
    },
    {
      "cell_type": "markdown",
      "metadata": {
        "id": "Av0PwZYscFIh"
      },
      "source": [
        "<a name='1'></a>\n",
        "## 1 - Baseline Model\n"
      ]
    },
    {
      "cell_type": "code",
      "metadata": {
        "id": "OvuoZ8pWcFIi"
      },
      "source": [
        "X_train, Y_train = read_csv('data/train_emoji.csv')\n",
        "X_test, Y_test = read_csv('data/test_emoji.csv')"
      ],
      "execution_count": 4,
      "outputs": []
    },
    {
      "cell_type": "code",
      "metadata": {
        "id": "DjAuDbxrcFIi"
      },
      "source": [
        "maxLen = len(max(X_train, key=len).split())"
      ],
      "execution_count": 5,
      "outputs": []
    },
    {
      "cell_type": "code",
      "metadata": {
        "colab": {
          "base_uri": "https://localhost:8080/"
        },
        "id": "vE1Zd2SMcFIj",
        "outputId": "e4ac877f-2c65-40ad-b0e9-7a68722a2100"
      },
      "source": [
        "for idx in range(10):\n",
        "    print(X_train[idx], label_to_emoji(Y_train[idx]))"
      ],
      "execution_count": 6,
      "outputs": [
        {
          "output_type": "stream",
          "name": "stdout",
          "text": [
            "never talk to me again 😞\n",
            "I am proud of your achievements 😄\n",
            "It is the worst day in my life 😞\n",
            "Miss you so much ❤️\n",
            "food is life 🍴\n",
            "I love you mum ❤️\n",
            "Stop saying bullshit 😞\n",
            "congratulations on your acceptance 😄\n",
            "The assignment is too long  😞\n",
            "I want to go play ⚾\n"
          ]
        }
      ]
    },
    {
      "cell_type": "code",
      "metadata": {
        "id": "RhRTRwVncFIm"
      },
      "source": [
        "Y_oh_train = convert_to_one_hot(Y_train, C = 5)\n",
        "Y_oh_test = convert_to_one_hot(Y_test, C = 5)"
      ],
      "execution_count": 7,
      "outputs": []
    },
    {
      "cell_type": "code",
      "metadata": {
        "colab": {
          "base_uri": "https://localhost:8080/"
        },
        "id": "GlHYeuBIcFIo",
        "outputId": "3c7c70da-6176-4f0b-b946-44067dfce8d8"
      },
      "source": [
        "idx = 50\n",
        "print(f\"Sentence '{X_train[50]}' has label index {Y_train[idx]}, which is emoji {label_to_emoji(Y_train[idx])}\", )\n",
        "print(f\"Label index {Y_train[idx]} in one-hot encoding format is {Y_oh_train[idx]}\")"
      ],
      "execution_count": 8,
      "outputs": [
        {
          "output_type": "stream",
          "name": "stdout",
          "text": [
            "Sentence 'I missed you' has label index 0, which is emoji ❤️\n",
            "Label index 0 in one-hot encoding format is [1. 0. 0. 0. 0.]\n"
          ]
        }
      ]
    },
    {
      "cell_type": "code",
      "metadata": {
        "colab": {
          "base_uri": "https://localhost:8080/",
          "height": 86
        },
        "id": "lRQZtW4Gx2IR",
        "outputId": "8c24f45b-b283-4a98-a157-46811758fcf3"
      },
      "source": [
        "patoolib.extract_archive(\"/content/Emojify-Comments-LSTM/data/glove.6B.50d.txt.zip\", outdir=\"/content/Emojify-Comments-LSTM/data\")"
      ],
      "execution_count": 13,
      "outputs": [
        {
          "output_type": "stream",
          "name": "stdout",
          "text": [
            "patool: Extracting /content/Emojify-Comments-LSTM/data/glove.6B.50d.txt.zip ...\n",
            "patool: running /usr/bin/7z x -o/content/Emojify-Comments-LSTM/data -- /content/Emojify-Comments-LSTM/data/glove.6B.50d.txt.zip\n",
            "patool: ... /content/Emojify-Comments-LSTM/data/glove.6B.50d.txt.zip extracted to `/content/Emojify-Comments-LSTM/data'.\n"
          ]
        },
        {
          "output_type": "execute_result",
          "data": {
            "application/vnd.google.colaboratory.intrinsic+json": {
              "type": "string"
            },
            "text/plain": [
              "'/content/Emojify-Comments-LSTM/data'"
            ]
          },
          "metadata": {},
          "execution_count": 13
        }
      ]
    },
    {
      "cell_type": "code",
      "metadata": {
        "id": "QXI3avt7cFIq"
      },
      "source": [
        "word_to_index, index_to_word, word_to_vec_map = read_glove_vecs('data/glove.6B.50d.txt')"
      ],
      "execution_count": 14,
      "outputs": []
    },
    {
      "cell_type": "code",
      "metadata": {
        "colab": {
          "base_uri": "https://localhost:8080/"
        },
        "id": "RB2ZN6ajcFIr",
        "outputId": "882f51e3-fc15-424b-90e4-94aff0064113"
      },
      "source": [
        "word = \"direct\"\n",
        "idx = 289300\n",
        "print(\"the index of\", word, \"in the vocabulary is\", word_to_index[word])\n",
        "print(\"the\", str(idx) + \"th word in the vocabulary is\", index_to_word[idx])"
      ],
      "execution_count": 15,
      "outputs": [
        {
          "output_type": "stream",
          "name": "stdout",
          "text": [
            "the index of direct in the vocabulary is 124729\n",
            "the 289300th word in the vocabulary is portway\n"
          ]
        }
      ]
    },
    {
      "cell_type": "code",
      "metadata": {
        "id": "buYjsIBecFIs"
      },
      "source": [
        "def sentence_to_avg(sentence, word_to_vec_map):\n",
        "\n",
        "    any_word = list(word_to_vec_map.keys())[0]\n",
        "    words = sentence.lower().split()\n",
        "    avg = np.zeros(word_to_vec_map[any_word].shape[0])\n",
        "    count = 0\n",
        "    for w in words:\n",
        "        if w in word_to_vec_map:\n",
        "            avg += word_to_vec_map[w]\n",
        "            count +=1\n",
        "    if count > 0:\n",
        "        avg = avg / count\n",
        "    return avg"
      ],
      "execution_count": 16,
      "outputs": []
    },
    {
      "cell_type": "code",
      "metadata": {
        "colab": {
          "base_uri": "https://localhost:8080/"
        },
        "id": "7OwW-r6ecFIt",
        "scrolled": true,
        "outputId": "29d1285f-795d-404a-b972-daef09fb11fa"
      },
      "source": [
        "avg = sentence_to_avg(\"Morrocan couscous is my favorite dish\", word_to_vec_map)\n",
        "print(\"avg = \\n\", avg)"
      ],
      "execution_count": 17,
      "outputs": [
        {
          "output_type": "stream",
          "name": "stdout",
          "text": [
            "avg = \n",
            " [-0.008005    0.56370833 -0.50427333  0.258865    0.55131103  0.03104983\n",
            " -0.21013718  0.16893933 -0.09590267  0.141784   -0.15708967  0.18525867\n",
            "  0.6495785   0.38371117  0.21102167  0.11301667  0.02613967  0.26037767\n",
            "  0.05820667 -0.01578167 -0.12078833 -0.02471267  0.4128455   0.5152061\n",
            "  0.38756167 -0.898661   -0.535145    0.33501167  0.68806933 -0.2156265\n",
            "  1.797155    0.10476933 -0.36775333  0.750785    0.10282583  0.348925\n",
            " -0.27262833  0.66768    -0.10706167 -0.283635    0.59580117  0.28747333\n",
            " -0.3366635   0.23393817  0.34349183  0.178405    0.1166155  -0.076433\n",
            "  0.1445417   0.09808667]\n"
          ]
        }
      ]
    },
    {
      "cell_type": "code",
      "metadata": {
        "id": "O_BzrO-TcFIv"
      },
      "source": [
        "def model(X, Y, word_to_vec_map, learning_rate = 0.01, num_iterations = 400):\n",
        "    any_word = list(word_to_vec_map.keys())[0]\n",
        "    cost = 0\n",
        "    m = Y.shape[0]                             \n",
        "    n_y = len(np.unique(Y))                    \n",
        "    n_h = word_to_vec_map[any_word].shape[0] \n",
        "    \n",
        "    W = np.random.randn(n_y, n_h) / np.sqrt(n_h)\n",
        "    b = np.zeros((n_y,))\n",
        "\n",
        "    Y_oh = convert_to_one_hot(Y, C = n_y) \n",
        "\n",
        "    for t in range(num_iterations): \n",
        "        for i in range(m):          \n",
        "            avg = sentence_to_avg(X[i], word_to_vec_map)\n",
        "            z = np.dot(W, avg) + b\n",
        "            a = softmax(z)\n",
        "            cost = -np.sum(Y_oh[i]*np.log(a))\n",
        "\n",
        "            dz = a - Y_oh[i]\n",
        "            dW = np.dot(dz.reshape(n_y,1), avg.reshape(1, n_h))\n",
        "            db = dz\n",
        "\n",
        "            W = W - learning_rate * dW\n",
        "            b = b - learning_rate * db\n",
        "        \n",
        "        if t % 100 == 0:\n",
        "            print(\"Epoch: \" + str(t) + \" --- cost = \" + str(cost))\n",
        "            pred = predict(X, Y, W, b, word_to_vec_map) #predict is defined in emo_utils.py\n",
        "\n",
        "    return pred, W, b"
      ],
      "execution_count": 18,
      "outputs": []
    },
    {
      "cell_type": "code",
      "metadata": {
        "id": "umWTqRcpcFIw",
        "scrolled": true
      },
      "source": [
        "np.random.seed(1)\n",
        "pred, W, b = model(X_train, Y_train, word_to_vec_map)\n",
        "print(pred)"
      ],
      "execution_count": null,
      "outputs": []
    },
    {
      "cell_type": "code",
      "metadata": {
        "colab": {
          "base_uri": "https://localhost:8080/"
        },
        "id": "yhb6CzhrcFIx",
        "scrolled": false,
        "outputId": "920e6f52-7ab9-4be7-b796-21bb7d692af4"
      },
      "source": [
        "print(\"Training set:\")\n",
        "pred_train = predict(X_train, Y_train, W, b, word_to_vec_map)\n",
        "print('Test set:')\n",
        "pred_test = predict(X_test, Y_test, W, b, word_to_vec_map)"
      ],
      "execution_count": 20,
      "outputs": [
        {
          "output_type": "stream",
          "name": "stdout",
          "text": [
            "Training set:\n",
            "Accuracy: 0.9772727272727273\n",
            "Test set:\n",
            "Accuracy: 0.8571428571428571\n"
          ]
        }
      ]
    },
    {
      "cell_type": "code",
      "metadata": {
        "colab": {
          "base_uri": "https://localhost:8080/"
        },
        "id": "tvCl7fUvcFIz",
        "outputId": "013b6d96-bf0b-4562-dc92-7fae9c361235"
      },
      "source": [
        "X_my_sentences = np.array([\"i adore you\", \"i love you\", \"funny lol\", \"lets play with a ball\", \"food is ready\", \"not feeling happy\"])\n",
        "Y_my_labels = np.array([[0], [0], [2], [1], [4],[3]])\n",
        "\n",
        "pred = predict(X_my_sentences, Y_my_labels , W, b, word_to_vec_map)\n",
        "print_predictions(X_my_sentences, pred)"
      ],
      "execution_count": 21,
      "outputs": [
        {
          "output_type": "stream",
          "name": "stdout",
          "text": [
            "Accuracy: 0.8333333333333334\n",
            "\n",
            "i adore you ❤️\n",
            "i love you ❤️\n",
            "funny lol 😄\n",
            "lets play with a ball ⚾\n",
            "food is ready 🍴\n",
            "not feeling happy 😄\n"
          ]
        }
      ]
    },
    {
      "cell_type": "code",
      "metadata": {
        "colab": {
          "base_uri": "https://localhost:8080/",
          "height": 431
        },
        "id": "Ab9aH9IQcFI1",
        "outputId": "794514be-a707-4a7c-9c89-3a0a204f1190"
      },
      "source": [
        "# START SKIP FOR GRADING\n",
        "print(Y_test.shape)\n",
        "print('           '+ label_to_emoji(0)+ '    ' + label_to_emoji(1) + '    ' +  label_to_emoji(2)+ '    ' + label_to_emoji(3)+'   ' + label_to_emoji(4))\n",
        "print(pd.crosstab(Y_test, pred_test.reshape(56,), rownames=['Actual'], colnames=['Predicted'], margins=True))\n",
        "plot_confusion_matrix(Y_test, pred_test)\n",
        "# END SKIP FOR GRADING"
      ],
      "execution_count": 22,
      "outputs": [
        {
          "output_type": "stream",
          "name": "stdout",
          "text": [
            "(56,)\n",
            "           ❤️    ⚾    😄    😞   🍴\n",
            "Predicted  0.0  1.0  2.0  3.0  4.0  All\n",
            "Actual                                 \n",
            "0            6    0    0    1    0    7\n",
            "1            0    8    0    0    0    8\n",
            "2            2    0   16    0    0   18\n",
            "3            1    1    2   12    0   16\n",
            "4            0    0    1    0    6    7\n",
            "All          9    9   19   13    6   56\n"
          ]
        },
        {
          "output_type": "display_data",
          "data": {
            "image/png": "[encoded data removed]",
            "text/plain": [
              "<Figure size 288x288 with 2 Axes>"
            ]
          },
          "metadata": {
            "needs_background": "light"
          }
        }
      ]
    },
    {
      "cell_type": "markdown",
      "metadata": {
        "id": "BEeTqpjlcFI2"
      },
      "source": [
        "<a name='2'></a>\n",
        "## 2 - Emojifier: Using LSTMs in Keras "
      ]
    },
    {
      "cell_type": "code",
      "metadata": {
        "id": "uZ-fy9fYcFI3"
      },
      "source": [
        "import numpy as np\n",
        "import tensorflow\n",
        "np.random.seed(0)\n",
        "from tensorflow.keras.models import Model\n",
        "from tensorflow.keras.layers import Dense, Input, Dropout, LSTM, Activation\n",
        "from tensorflow.keras.layers import Embedding\n",
        "from tensorflow.keras.preprocessing import sequence\n",
        "from tensorflow.keras.initializers import glorot_uniform\n",
        "np.random.seed(1)"
      ],
      "execution_count": 23,
      "outputs": []
    },
    {
      "cell_type": "code",
      "metadata": {
        "id": "Z0SixlIwcFI5"
      },
      "source": [
        "def sentences_to_indices(X, word_to_index, max_len):\n",
        "    m = X.shape[0]                                   \n",
        "    X_indices = np.zeros((m, max_len))\n",
        "    \n",
        "    for i in range(m):    \n",
        "        sentence_words = X[i].lower().split()\n",
        "        j = 0\n",
        "        for w in sentence_words:\n",
        "            if w in word_to_index:\n",
        "                X_indices[i, j] = word_to_index[w]\n",
        "                j +=1\n",
        "    return X_indices"
      ],
      "execution_count": 24,
      "outputs": []
    },
    {
      "cell_type": "code",
      "metadata": {
        "colab": {
          "base_uri": "https://localhost:8080/"
        },
        "id": "oBL1PMOCcFI6",
        "outputId": "9d14f82c-a250-4e0e-b46f-81ab0727c2c0"
      },
      "source": [
        "X1 = np.array([\"funny lol\", \"lets play baseball\", \"food is ready for you\"])\n",
        "X1_indices = sentences_to_indices(X1, word_to_index, max_len=5)\n",
        "print(\"X1 =\", X1)\n",
        "print(\"X1_indices =\\n\", X1_indices)"
      ],
      "execution_count": 25,
      "outputs": [
        {
          "output_type": "stream",
          "name": "stdout",
          "text": [
            "X1 = ['funny lol' 'lets play baseball' 'food is ready for you']\n",
            "X1_indices =\n",
            " [[155345. 225122.      0.      0.      0.]\n",
            " [220930. 286375.  69714.      0.      0.]\n",
            " [151204. 192973. 302254. 151349. 394475.]]\n"
          ]
        }
      ]
    },
    {
      "cell_type": "code",
      "metadata": {
        "id": "XBlEpiVkcFI7"
      },
      "source": [
        "def pretrained_embedding_layer(word_to_vec_map, word_to_index):\n",
        "    vocab_size = len(word_to_index) + 1             \n",
        "    any_word = list(word_to_vec_map.keys())[0]\n",
        "    emb_dim = word_to_vec_map[any_word].shape[0]   \n",
        "\n",
        "    emb_matrix = np.zeros((vocab_size,emb_dim))\n",
        "\n",
        "    for word, idx in word_to_index.items():\n",
        "        emb_matrix[idx, :] = word_to_vec_map[word]\n",
        "\n",
        "    embedding_layer = Embedding(vocab_size, emb_dim, trainable=False)\n",
        "    embedding_layer.build((None,)) \n",
        "    embedding_layer.set_weights([emb_matrix])\n",
        "    \n",
        "    return embedding_layer"
      ],
      "execution_count": 26,
      "outputs": []
    },
    {
      "cell_type": "code",
      "metadata": {
        "colab": {
          "base_uri": "https://localhost:8080/"
        },
        "id": "Gn4iGb0AcFI7",
        "outputId": "d55b7c56-7f05-4d84-e88e-7302acbf7750"
      },
      "source": [
        "embedding_layer = pretrained_embedding_layer(word_to_vec_map, word_to_index)\n",
        "print(\"weights[0][1][1] =\", embedding_layer.get_weights()[0][1][1])\n",
        "print(\"Input_dim\", embedding_layer.input_dim)\n",
        "print(\"Output_dim\",embedding_layer.output_dim)"
      ],
      "execution_count": 27,
      "outputs": [
        {
          "output_type": "stream",
          "name": "stdout",
          "text": [
            "weights[0][1][1] = 0.39031\n",
            "Input_dim 400001\n",
            "Output_dim 50\n"
          ]
        }
      ]
    },
    {
      "cell_type": "code",
      "metadata": {
        "id": "Pb2ugsSUcFI7"
      },
      "source": [
        "def Emojify_V2(input_shape, word_to_vec_map, word_to_index):\n",
        "    sentence_indices = Input(shape=input_shape,dtype='int32')\n",
        "    embedding_layer = pretrained_embedding_layer(word_to_vec_map, word_to_index)\n",
        "\n",
        "    embeddings = embedding_layer(sentence_indices)   \n",
        "    X = LSTM(units = 128, return_sequences= True)(embeddings)\n",
        "    X = Dropout(rate = 0.5)(X)\n",
        "    X = LSTM(units=128,return_sequences=False)(X)\n",
        "    X = Dropout(rate = 0.5)(X) \n",
        "    X = Dense(units = 5)(X)\n",
        "    X = Activation('softmax')(X)\n",
        "\n",
        "    model = Model(inputs= sentence_indices, outputs= X)\n",
        "    \n",
        "    return model"
      ],
      "execution_count": 28,
      "outputs": []
    },
    {
      "cell_type": "code",
      "metadata": {
        "colab": {
          "base_uri": "https://localhost:8080/"
        },
        "id": "8fLhXJ9ucFI8",
        "scrolled": false,
        "outputId": "92df8d05-ecb3-408b-86bf-7770e863065d"
      },
      "source": [
        "model = Emojify_V2((maxLen,), word_to_vec_map, word_to_index)\n",
        "model.summary()"
      ],
      "execution_count": 29,
      "outputs": [
        {
          "output_type": "stream",
          "name": "stdout",
          "text": [
            "Model: \"model\"\n",
            "_________________________________________________________________\n",
            "Layer (type)                 Output Shape              Param #   \n",
            "=================================================================\n",
            "input_1 (InputLayer)         [(None, 10)]              0         \n",
            "_________________________________________________________________\n",
            "embedding_1 (Embedding)      (None, 10, 50)            20000050  \n",
            "_________________________________________________________________\n",
            "lstm (LSTM)                  (None, 10, 128)           91648     \n",
            "_________________________________________________________________\n",
            "dropout (Dropout)            (None, 10, 128)           0         \n",
            "_________________________________________________________________\n",
            "lstm_1 (LSTM)                (None, 128)               131584    \n",
            "_________________________________________________________________\n",
            "dropout_1 (Dropout)          (None, 128)               0         \n",
            "_________________________________________________________________\n",
            "dense (Dense)                (None, 5)                 645       \n",
            "_________________________________________________________________\n",
            "activation (Activation)      (None, 5)                 0         \n",
            "=================================================================\n",
            "Total params: 20,223,927\n",
            "Trainable params: 223,877\n",
            "Non-trainable params: 20,000,050\n",
            "_________________________________________________________________\n"
          ]
        }
      ]
    },
    {
      "cell_type": "code",
      "metadata": {
        "id": "aMf79f45cFI9"
      },
      "source": [
        "model.compile(loss='categorical_crossentropy', optimizer='adam', metrics=['accuracy'])"
      ],
      "execution_count": 31,
      "outputs": []
    },
    {
      "cell_type": "code",
      "metadata": {
        "id": "UgsBnWQqcFI-"
      },
      "source": [
        "X_train_indices = sentences_to_indices(X_train, word_to_index, maxLen)\n",
        "Y_train_oh = convert_to_one_hot(Y_train, C = 5)"
      ],
      "execution_count": 30,
      "outputs": []
    },
    {
      "cell_type": "code",
      "metadata": {
        "id": "LtFpvyJicFI_",
        "scrolled": true,
        "colab": {
          "base_uri": "https://localhost:8080/"
        },
        "outputId": "dd30d067-680d-4d3e-8888-466b1b1b7b8c"
      },
      "source": [
        "model.fit(X_train_indices, Y_train_oh, epochs = 50, batch_size = 32, shuffle=True)"
      ],
      "execution_count": 32,
      "outputs": [
        {
          "output_type": "stream",
          "name": "stdout",
          "text": [
            "Epoch 1/50\n",
            "5/5 [==============================] - 8s 11ms/step - loss: 1.5871 - accuracy: 0.2197\n",
            "Epoch 2/50\n",
            "5/5 [==============================] - 0s 10ms/step - loss: 1.5080 - accuracy: 0.3333\n",
            "Epoch 3/50\n",
            "5/5 [==============================] - 0s 10ms/step - loss: 1.4303 - accuracy: 0.4167\n",
            "Epoch 4/50\n",
            "5/5 [==============================] - 0s 10ms/step - loss: 1.3485 - accuracy: 0.4848\n",
            "Epoch 5/50\n",
            "5/5 [==============================] - 0s 10ms/step - loss: 1.2315 - accuracy: 0.5303\n",
            "Epoch 6/50\n",
            "5/5 [==============================] - 0s 10ms/step - loss: 1.0891 - accuracy: 0.5909\n",
            "Epoch 7/50\n",
            "5/5 [==============================] - 0s 10ms/step - loss: 1.0108 - accuracy: 0.6212\n",
            "Epoch 8/50\n",
            "5/5 [==============================] - 0s 11ms/step - loss: 0.8061 - accuracy: 0.7273\n",
            "Epoch 9/50\n",
            "5/5 [==============================] - 0s 10ms/step - loss: 0.7254 - accuracy: 0.7500\n",
            "Epoch 10/50\n",
            "5/5 [==============================] - 0s 12ms/step - loss: 0.6748 - accuracy: 0.7727\n",
            "Epoch 11/50\n",
            "5/5 [==============================] - 0s 11ms/step - loss: 0.5661 - accuracy: 0.7652\n",
            "Epoch 12/50\n",
            "5/5 [==============================] - 0s 11ms/step - loss: 0.5321 - accuracy: 0.7955\n",
            "Epoch 13/50\n",
            "5/5 [==============================] - 0s 11ms/step - loss: 0.8398 - accuracy: 0.7045\n",
            "Epoch 14/50\n",
            "5/5 [==============================] - 0s 12ms/step - loss: 0.6555 - accuracy: 0.7500\n",
            "Epoch 15/50\n",
            "5/5 [==============================] - 0s 10ms/step - loss: 0.5771 - accuracy: 0.8030\n",
            "Epoch 16/50\n",
            "5/5 [==============================] - 0s 11ms/step - loss: 0.5596 - accuracy: 0.8182\n",
            "Epoch 17/50\n",
            "5/5 [==============================] - 0s 11ms/step - loss: 0.4911 - accuracy: 0.8409\n",
            "Epoch 18/50\n",
            "5/5 [==============================] - 0s 10ms/step - loss: 0.4366 - accuracy: 0.8864\n",
            "Epoch 19/50\n",
            "5/5 [==============================] - 0s 11ms/step - loss: 0.3896 - accuracy: 0.8712\n",
            "Epoch 20/50\n",
            "5/5 [==============================] - 0s 11ms/step - loss: 0.3494 - accuracy: 0.8864\n",
            "Epoch 21/50\n",
            "5/5 [==============================] - 0s 12ms/step - loss: 0.3313 - accuracy: 0.8788\n",
            "Epoch 22/50\n",
            "5/5 [==============================] - 0s 11ms/step - loss: 0.3146 - accuracy: 0.9091\n",
            "Epoch 23/50\n",
            "5/5 [==============================] - 0s 11ms/step - loss: 0.2947 - accuracy: 0.8864\n",
            "Epoch 24/50\n",
            "5/5 [==============================] - 0s 11ms/step - loss: 0.2856 - accuracy: 0.9318\n",
            "Epoch 25/50\n",
            "5/5 [==============================] - 0s 12ms/step - loss: 0.3028 - accuracy: 0.8864\n",
            "Epoch 26/50\n",
            "5/5 [==============================] - 0s 12ms/step - loss: 0.2479 - accuracy: 0.9167\n",
            "Epoch 27/50\n",
            "5/5 [==============================] - 0s 10ms/step - loss: 0.2628 - accuracy: 0.9318\n",
            "Epoch 28/50\n",
            "5/5 [==============================] - 0s 11ms/step - loss: 0.2373 - accuracy: 0.8939\n",
            "Epoch 29/50\n",
            "5/5 [==============================] - 0s 11ms/step - loss: 0.2197 - accuracy: 0.9015\n",
            "Epoch 30/50\n",
            "5/5 [==============================] - 0s 11ms/step - loss: 0.1708 - accuracy: 0.9545\n",
            "Epoch 31/50\n",
            "5/5 [==============================] - 0s 10ms/step - loss: 0.2173 - accuracy: 0.9015\n",
            "Epoch 32/50\n",
            "5/5 [==============================] - 0s 10ms/step - loss: 0.1840 - accuracy: 0.9318\n",
            "Epoch 33/50\n",
            "5/5 [==============================] - 0s 11ms/step - loss: 0.1702 - accuracy: 0.9318\n",
            "Epoch 34/50\n",
            "5/5 [==============================] - 0s 11ms/step - loss: 0.1638 - accuracy: 0.9394\n",
            "Epoch 35/50\n",
            "5/5 [==============================] - 0s 11ms/step - loss: 0.1722 - accuracy: 0.9318\n",
            "Epoch 36/50\n",
            "5/5 [==============================] - 0s 11ms/step - loss: 0.1089 - accuracy: 0.9697\n",
            "Epoch 37/50\n",
            "5/5 [==============================] - 0s 10ms/step - loss: 0.0789 - accuracy: 0.9848\n",
            "Epoch 38/50\n",
            "5/5 [==============================] - 0s 10ms/step - loss: 0.0912 - accuracy: 0.9773\n",
            "Epoch 39/50\n",
            "5/5 [==============================] - 0s 11ms/step - loss: 0.0560 - accuracy: 0.9924\n",
            "Epoch 40/50\n",
            "5/5 [==============================] - 0s 11ms/step - loss: 0.0709 - accuracy: 0.9848\n",
            "Epoch 41/50\n",
            "5/5 [==============================] - 0s 11ms/step - loss: 0.1045 - accuracy: 0.9697\n",
            "Epoch 42/50\n",
            "5/5 [==============================] - 0s 11ms/step - loss: 0.0511 - accuracy: 0.9848\n",
            "Epoch 43/50\n",
            "5/5 [==============================] - 0s 10ms/step - loss: 0.0599 - accuracy: 0.9773\n",
            "Epoch 44/50\n",
            "5/5 [==============================] - 0s 11ms/step - loss: 0.0426 - accuracy: 0.9924\n",
            "Epoch 45/50\n",
            "5/5 [==============================] - 0s 11ms/step - loss: 0.0732 - accuracy: 0.9848\n",
            "Epoch 46/50\n",
            "5/5 [==============================] - 0s 11ms/step - loss: 0.2273 - accuracy: 0.9470\n",
            "Epoch 47/50\n",
            "5/5 [==============================] - 0s 10ms/step - loss: 0.1254 - accuracy: 0.9545\n",
            "Epoch 48/50\n",
            "5/5 [==============================] - 0s 12ms/step - loss: 0.0538 - accuracy: 0.9848\n",
            "Epoch 49/50\n",
            "5/5 [==============================] - 0s 11ms/step - loss: 0.0571 - accuracy: 0.9924\n",
            "Epoch 50/50\n",
            "5/5 [==============================] - 0s 11ms/step - loss: 0.0577 - accuracy: 0.9773\n"
          ]
        },
        {
          "output_type": "execute_result",
          "data": {
            "text/plain": [
              "<keras.callbacks.History at 0x7ff0c0049510>"
            ]
          },
          "metadata": {},
          "execution_count": 32
        }
      ]
    },
    {
      "cell_type": "code",
      "metadata": {
        "colab": {
          "base_uri": "https://localhost:8080/"
        },
        "id": "sIbcdVibcFJA",
        "scrolled": true,
        "outputId": "5a70040a-2379-4eaa-9124-594d36bab95b"
      },
      "source": [
        "X_test_indices = sentences_to_indices(X_test, word_to_index, max_len = maxLen)\n",
        "Y_test_oh = convert_to_one_hot(Y_test, C = 5)\n",
        "loss, acc = model.evaluate(X_test_indices, Y_test_oh)\n",
        "print()\n",
        "print(\"Test accuracy = \", acc)"
      ],
      "execution_count": 33,
      "outputs": [
        {
          "output_type": "stream",
          "name": "stdout",
          "text": [
            "2/2 [==============================] - 1s 14ms/step - loss: 0.5015 - accuracy: 0.8571\n",
            "\n",
            "Test accuracy =  0.8571428656578064\n"
          ]
        }
      ]
    },
    {
      "cell_type": "code",
      "metadata": {
        "colab": {
          "base_uri": "https://localhost:8080/"
        },
        "id": "mjMyEGmYcFJC",
        "outputId": "b5d8d0e7-62c7-41dc-eb0c-15c909346484"
      },
      "source": [
        "# This code allows you to see the mislabelled examples\n",
        "C = 5\n",
        "y_test_oh = np.eye(C)[Y_test.reshape(-1)]\n",
        "X_test_indices = sentences_to_indices(X_test, word_to_index, maxLen)\n",
        "pred = model.predict(X_test_indices)\n",
        "for i in range(len(X_test)):\n",
        "    x = X_test_indices\n",
        "    num = np.argmax(pred[i])\n",
        "    if(num != Y_test[i]):\n",
        "        print('Expected emoji:'+ label_to_emoji(Y_test[i]) + ' prediction: '+ X_test[i] + label_to_emoji(num).strip())"
      ],
      "execution_count": 34,
      "outputs": [
        {
          "output_type": "stream",
          "name": "stdout",
          "text": [
            "Expected emoji:😄 prediction: she got me a nice present\t❤️\n",
            "Expected emoji:😄 prediction: he is a good friend\t❤️\n",
            "Expected emoji:😞 prediction: This girl is messing with me\t❤️\n",
            "Expected emoji:😄 prediction: you brighten my day\t❤️\n",
            "Expected emoji:😞 prediction: she is a bully\t❤️\n",
            "Expected emoji:😞 prediction: My life is so boring\t❤️\n",
            "Expected emoji:😄 prediction: will you be my valentine\t❤️\n",
            "Expected emoji:😞 prediction: go away\t⚾\n"
          ]
        }
      ]
    },
    {
      "cell_type": "markdown",
      "metadata": {
        "id": "UGg00oBRcFJD"
      },
      "source": [
        "Now you can try it on your own example! Write your own sentence below:"
      ]
    },
    {
      "cell_type": "code",
      "metadata": {
        "colab": {
          "base_uri": "https://localhost:8080/"
        },
        "id": "wEgCsIE7cFJE",
        "outputId": "04f9241b-1d22-4fc2-c08e-b0d53604c1a7"
      },
      "source": [
        "# Change the sentence below to see your prediction. Make sure all the words are in the Glove embeddings.  \n",
        "x_test = np.array(['I Like Football'])\n",
        "X_test_indices = sentences_to_indices(x_test, word_to_index, maxLen)\n",
        "print(x_test[0] +' '+  label_to_emoji(np.argmax(model.predict(X_test_indices))))"
      ],
      "execution_count": 35,
      "outputs": [
        {
          "output_type": "stream",
          "name": "stdout",
          "text": [
            "I Like Football ⚾\n"
          ]
        }
      ]
    }
  ]
}